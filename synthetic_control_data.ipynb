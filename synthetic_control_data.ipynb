{
  "metadata": {
    "kernelspec": {
      "name": "python",
      "display_name": "Python (Pyodide)",
      "language": "python"
    },
    "language_info": {
      "name": ""
    }
  },
  "nbformat_minor": 5,
  "nbformat": 4,
  "cells": [
    {
      "id": "99b6b0a7-4e1b-4e7c-af86-8f4456ce18e7",
      "cell_type": "markdown",
      "source": "# Generate hypothetical dataset for synthetic control demonstration\nA promotion was implaments in NJ on March 2023. I was to evaluate it's effect. I am using PA, MI and IL as my donor pool to create the synthetic control for NJ. \n\nIn this dataset, I produce a baseline of Daily Active Users (DAU) and natural NFL betting volume (# of bets), added seasonality factors to reflect the seasonal nature of sports. I also added a \"treatment\" effect, and effect of the promotion, for NJ DAU and betting volume. ",
      "metadata": {}
    },
    {
      "id": "c666132f-a5fd-4735-8fb6-c0fd42efecb0",
      "cell_type": "code",
      "source": "pip install matplotlib pandas numpy\nimport pandas as pd\nimport numpy as np\nimport matplotlib.pyplot as plt",
      "metadata": {
        "trusted": true
      },
      "outputs": [],
      "execution_count": null
    },
    {
      "id": "8409ecd6-9f63-4d7a-8dc0-02419dbc7328",
      "cell_type": "code",
      "source": "np.random.seed(42) \nstates = ['NJ', 'PA', 'MI', 'IL']\ndates = pd.date_range(start='2022-01-01', end='2023-06-30', freq='D')\npromo_start = '2023-03-01'\nprint(states)\nprint(promo_start)",
      "metadata": {
        "trusted": true
      },
      "outputs": [],
      "execution_count": null
    },
    {
      "id": "b2606c70-0884-4003-8e75-30e4d194505a",
      "cell_type": "code",
      "source": "data = [] \n\nfor state in states:\n    print(f\"Processing state: {state}\")\n    # State-specific baseline activity\n    base_handle = np.random.uniform(10000, 20000)\n    base_users = np.random.uniform(500, 1000)\n    \n    for date in dates:\n        # Seasonal effect: Higher during football season (Sep-Feb)\n        month = date.month\n        season_multiplier = 1.2 if month in [9, 10, 11, 12, 1, 2] else 1.0\n        \n        # Random daily fluctuation\n        fluctuation = np.random.normal(1.0, 0.05)\n        \n        # Simulate handle and DAU\n        handle = base_handle * season_multiplier * fluctuation\n        dau = base_users * season_multiplier * fluctuation\n        \n        # Average bet number, cutoff at 0 and integer\n        avg_bet_num = np.random.normal(3, 1)\n        while avg_bet_num < 0:\n            avg_bet_num = np.random.normal(3, 1)\n        avg_bet_num = int(round(avg_bet_num))  # Convert to integer\n        print(avg_bet_num)  # This should now print for each date\n\n        # Promotion effect for NJ after March 2023\n        treatment = 1 if (state == 'NJ' and date >= pd.to_datetime(promo_start)) else 0\n        promo_boost = 1.3 if treatment else 1.0  # 30% lift due to promo\n        \n        # Apply promo boost\n        handle *= promo_boost\n        dau *= promo_boost\n\n        # Append the row of data for each date\n        data.append([state, date, handle, dau, avg_bet_num, treatment])",
      "metadata": {
        "trusted": true
      },
      "outputs": [],
      "execution_count": null
    },
    {
      "id": "2954cba6-f043-4508-803e-b8a304d5cc89",
      "cell_type": "code",
      "source": "print(f\"Data length: {len(data)}\")\nif data:\n    df = pd.DataFrame(data, columns=['State', 'Date', 'Handle', 'DAU', 'AvgBetNum', 'Treatment'])\n    print(df.head())\nelse:\n    print(\"No data to display.\")\nprint(f\"States: {states}\")\nprint(f\"Dates: {dates}\")\nprint(df.head())",
      "metadata": {
        "trusted": true
      },
      "outputs": [],
      "execution_count": null
    },
    {
      "id": "78772ae7-84d1-488e-a8d8-9015bacce106",
      "cell_type": "code",
      "source": "# Add seasonality features\ndf['Month'] = df['Date'].dt.month\ndf['FootballSeason'] = df['Month'].isin([9, 10, 11, 12, 1, 2]).astype(int)",
      "metadata": {
        "trusted": true
      },
      "outputs": [],
      "execution_count": null
    },
    {
      "id": "d0175558-9948-4302-aaf7-ea175840e719",
      "cell_type": "code",
      "source": "# Preview dataset\nprint(df.head())\ndf.to_csv('syntheticdat.csv', index=False)",
      "metadata": {
        "trusted": true
      },
      "outputs": [],
      "execution_count": null
    },
    {
      "id": "f2bb3f3d-22f0-412e-8e9b-fedf59e0e729",
      "cell_type": "code",
      "source": "# Visualize\nplt.figure(figsize=(12, 6))\nfor state in states:\n    subset = df[df['State'] == state].groupby('Date')['Handle'].mean()\n    plt.plot(subset.index, subset.values, label=state)\n    \nplt.axvline(pd.to_datetime(promo_start), color='red', linestyle='--', label='Promo Start NJ')\nplt.legend()\nplt.title('Daily Handle by State (Synthetic Data)')\nplt.xlabel('Date')\nplt.ylabel('Total number of bets')\nplt.show()",
      "metadata": {
        "trusted": true
      },
      "outputs": [],
      "execution_count": null
    },
    {
      "id": "6579b664-9833-4d74-9eb5-f33314aa19f3",
      "cell_type": "code",
      "source": "",
      "metadata": {
        "trusted": true
      },
      "outputs": [],
      "execution_count": null
    },
    {
      "id": "fe467b89-14a8-49ed-b3ef-c81b7f6c6583",
      "cell_type": "code",
      "source": "",
      "metadata": {
        "trusted": true
      },
      "outputs": [],
      "execution_count": null
    }
  ]
}